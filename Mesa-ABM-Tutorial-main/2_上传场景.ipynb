{
  "cells": [
    {
      "cell_type": "markdown",
      "metadata": {
        "colab_type": "text",
        "id": "view-in-github"
      },
      "source": [
        "<a href=\"https://colab.research.google.com/github/SFIComplexityExplorer/Mesa-ABM-Tutorial/blob/main/Session_4_Upload_The_Landscape.ipynb\" target=\"_parent\"><img src=\"https://colab.research.google.com/assets/colab-badge.svg\" alt=\"Open In Colab\"/></a>"
      ]
    },
    {
      "cell_type": "code",
      "execution_count": 1,
      "metadata": {
        "id": "ikSl2Mz0m252"
      },
      "outputs": [],
      "source": [
        "import mesa\n",
        "import numpy as np\n",
        "import math\n",
        "import matplotlib.pyplot as plt\n",
        "\n",
        "%matplotlib inline"
      ]
    },
    {
      "cell_type": "markdown",
      "metadata": {
        "id": "BkX5GqjSnAu0"
      },
      "source": [
        "# 资源类"
      ]
    },
    {
      "cell_type": "code",
      "execution_count": 2,
      "metadata": {
        "id": "o1EOk5KMnC55"
      },
      "outputs": [],
      "source": [
        "class Sugar(mesa.Agent):\n",
        "  def __init__(self, unique_id, model, pos, max_sugar): \n",
        "    print(\"I am sugar\")"
      ]
    },
    {
      "cell_type": "code",
      "execution_count": 3,
      "metadata": {
        "id": "-oJ35Mx7nXmK"
      },
      "outputs": [],
      "source": [
        "class Spice(mesa.Agent):\n",
        "  def __init__(self):\n",
        "    print(\"I am spice\")\n",
        "  "
      ]
    },
    {
      "cell_type": "markdown",
      "metadata": {
        "id": "XYcwNrHqnrPt"
      },
      "source": [
        "# 交易主体类"
      ]
    },
    {
      "cell_type": "code",
      "execution_count": 4,
      "metadata": {
        "id": "t51BNfwUnt53"
      },
      "outputs": [],
      "source": [
        "class Trader(mesa.Agent): \n",
        "  def __init__(self):\n",
        "    print(\"I am Trader\")\n",
        " \n"
      ]
    },
    {
      "cell_type": "markdown",
      "metadata": {
        "id": "SRrU2ABBoF0i"
      },
      "source": [
        "# 模型类"
      ]
    },
    {
      "cell_type": "code",
      "execution_count": 5,
      "metadata": {
        "id": "7DTonjahn2BT"
      },
      "outputs": [],
      "source": [
        "class SugarscapeG1mt(mesa.Model):\n",
        "  def __init__(self, width=50,height=50):\n",
        "    \n",
        "    # 初始化糖景的宽度和高度\n",
        "    self.width = width\n",
        "    self.height = height \n",
        "    \n",
        "    # 初始化mesa的网格类\n",
        "    self.grid = mesa.space.MultiGrid(self.width, self.height, torus=False)\n",
        "\n",
        "    # 从补充材料中读取景观文件\n",
        "    sugar_distribution =np.genfromtxt(\"sugar-map.txt\")\n",
        "    spice_distribution = np.flip(sugar_distribution, 1)\n",
        "    plt.imshow(spice_distribution, origin=\"lower\")\n",
        "\n"
      ]
    },
    {
      "cell_type": "markdown",
      "metadata": {
        "id": "_KHKfeD9oiYo"
      },
      "source": [
        "# 运行Sugarscape模型"
      ]
    },
    {
      "cell_type": "code",
      "execution_count": 6,
      "metadata": {},
      "outputs": [
        {
          "data": {
            "image/png": "[encoded data removed]",
            "text/plain": [
              "<Figure size 640x480 with 1 Axes>"
            ]
          },
          "metadata": {},
          "output_type": "display_data"
        }
      ],
      "source": [
        "model = SugarscapeG1mt()\n"
      ]
    }
  ],
  "metadata": {
    "colab": {
      "include_colab_link": true,
      "provenance": []
    },
    "kernelspec": {
      "display_name": "Python 3",
      "language": "python",
      "name": "python3"
    },
    "language_info": {
      "codemirror_mode": {
        "name": "ipython",
        "version": 3
      },
      "file_extension": ".py",
      "mimetype": "text/x-python",
      "name": "python",
      "nbconvert_exporter": "python",
      "pygments_lexer": "ipython3",
      "version": "3.10.12"
    }
  },
  "nbformat": 4,
  "nbformat_minor": 0
}
