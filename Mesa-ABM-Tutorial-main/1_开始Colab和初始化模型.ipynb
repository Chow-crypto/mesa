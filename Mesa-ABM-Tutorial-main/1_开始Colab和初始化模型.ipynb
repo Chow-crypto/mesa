{
  "cells": [
    {
      "cell_type": "markdown",
      "metadata": {
        "colab_type": "text",
        "id": "view-in-github"
      },
      "source": [
        "<a href=\"https://colab.research.google.com/github/SFIComplexityExplorer/Mesa-ABM-Tutorial/blob/main/Session_3_Start_Colab_and_Initiate_Model.ipynb\" target=\"_parent\"><img src=\"https://colab.research.google.com/assets/colab-badge.svg\" alt=\"Open In Colab\"/></a>"
      ]
    },
    {
      "cell_type": "markdown",
      "metadata": {
        "id": "XAnII-29m3r2"
      },
      "source": [
        "# 引入依赖包"
      ]
    },
    {
      "cell_type": "code",
      "execution_count": null,
      "metadata": {
        "colab": {
          "base_uri": "https://localhost:8080/"
        },
        "id": "cCa7pEqXdY82",
        "outputId": "be57fead-256d-48fc-d878-bd3ee8d3bff2"
      },
      "outputs": [
        {
          "name": "stdout",
          "output_type": "stream",
          "text": [
            "Installing collected packages: binaryornot, arrow, jinja2-time, cookiecutter, mesa\n",
            "Successfully installed arrow-1.2.3 binaryornot-0.4.4 cookiecutter-2.1.1 jinja2-time-0.2.0 mesa-1.1.1\n"
          ]
        }
      ],
      "source": [
        "!pip install mesa"
      ]
    },
    {
      "cell_type": "code",
      "execution_count": 1,
      "metadata": {
        "id": "ikSl2Mz0m252"
      },
      "outputs": [],
      "source": [
        "import mesa"
      ]
    },
    {
      "cell_type": "markdown",
      "metadata": {
        "id": "BkX5GqjSnAu0"
      },
      "source": [
        "# 资源类 "
      ]
    },
    {
      "cell_type": "code",
      "execution_count": 2,
      "metadata": {
        "id": "o1EOk5KMnC55"
      },
      "outputs": [],
      "source": [
        "class Sugar(mesa.Agent):\n",
        "    '''\n",
        "    Sugar:\n",
        "    - 包含一定数量的糖\n",
        "    - 每轮增长一单位数量的糖\n",
        "    '''\n",
        "\n",
        "    def __init__(self): \n",
        "      print(\"I am Sugar\")"
      ]
    },
    {
      "cell_type": "code",
      "execution_count": 3,
      "metadata": {
        "id": "-oJ35Mx7nXmK"
      },
      "outputs": [],
      "source": [
        "class Spice(mesa.Agent):\n",
        "  '''\n",
        "  spice:\n",
        "  - 包含一定数量的香料\n",
        "  - 每轮增长一单位数量的香料\n",
        "  '''\n",
        "\n",
        "  def __init__(self):\n",
        "    print(\"I am Spice\")"
      ]
    },
    {
      "cell_type": "markdown",
      "metadata": {
        "id": "XYcwNrHqnrPt"
      },
      "source": [
        "# 交易主体类"
      ]
    },
    {
      "cell_type": "code",
      "execution_count": 4,
      "metadata": {
        "id": "t51BNfwUnt53"
      },
      "outputs": [],
      "source": [
        "class Trader(mesa.Agent):\n",
        "    '''\n",
        "    Trader:\n",
        "    - 能够代谢糖和香料\n",
        "    - 收集和交易糖和香料来生存与繁衍\n",
        "    '''\n",
        "\n",
        "    def __init__(self):\n",
        "        print('I am trader')"
      ]
    },
    {
      "cell_type": "markdown",
      "metadata": {
        "id": "SRrU2ABBoF0i"
      },
      "source": [
        "# 模型类"
      ]
    },
    {
      "cell_type": "code",
      "execution_count": 5,
      "metadata": {
        "id": "7DTonjahn2BT"
      },
      "outputs": [],
      "source": [
        "class SugarscapeG1mt(mesa.Model):\n",
        "  '''\n",
        "  通过Traders (GImt)来运行Sugarscape的模型\n",
        "  来自 Axtell和Epstein《Growing Artifical Societies》\n",
        "  '''\n",
        "  \n",
        "  def __init__(self, width=50,height=50):\n",
        "    self.spice = Spice()\n",
        "    self.sugar = Sugar()\n",
        "    self.trader = Trader()\n"
      ]
    },
    {
      "cell_type": "markdown",
      "metadata": {
        "id": "_KHKfeD9oiYo"
      },
      "source": [
        "# Run Sugarscape"
      ]
    },
    {
      "cell_type": "code",
      "execution_count": 6,
      "metadata": {
        "colab": {
          "base_uri": "https://localhost:8080/"
        },
        "id": "at455urSol7b",
        "outputId": "bb247582-2d50-4630-fe0d-9787453768b3"
      },
      "outputs": [
        {
          "name": "stdout",
          "output_type": "stream",
          "text": [
            "I am Spice\n",
            "I am Sugar\n",
            "I am trader\n"
          ]
        }
      ],
      "source": [
        "model = SugarscapeG1mt()"
      ]
    }
  ],
  "metadata": {
    "colab": {
      "include_colab_link": true,
      "provenance": []
    },
    "kernelspec": {
      "display_name": "Python 3",
      "language": "python",
      "name": "python3"
    },
    "language_info": {
      "codemirror_mode": {
        "name": "ipython",
        "version": 3
      },
      "file_extension": ".py",
      "mimetype": "text/x-python",
      "name": "python",
      "nbconvert_exporter": "python",
      "pygments_lexer": "ipython3",
      "version": "3.10.12"
    }
  },
  "nbformat": 4,
  "nbformat_minor": 0
}
