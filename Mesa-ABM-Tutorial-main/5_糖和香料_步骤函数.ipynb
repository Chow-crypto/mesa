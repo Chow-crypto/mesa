{
  "cells": [
    {
      "cell_type": "markdown",
      "metadata": {
        "colab_type": "text",
        "id": "view-in-github"
      },
      "source": [
        "<a href=\"https://colab.research.google.com/github/SFIComplexityExplorer/Mesa-ABM-Tutorial/blob/main/Session_8_Sugar_and_Spice_Step_Functions.ipynb\" target=\"_parent\"><img src=\"https://colab.research.google.com/assets/colab-badge.svg\" alt=\"Open In Colab\"/></a>"
      ]
    },
    {
      "cell_type": "markdown",
      "metadata": {
        "id": "XAnII-29m3r2"
      },
      "source": [
        "# 引入依赖包"
      ]
    },
    {
      "cell_type": "code",
      "execution_count": 1,
      "metadata": {
        "colab": {
          "base_uri": "https://localhost:8080/"
        },
        "id": "ikSl2Mz0m252",
        "outputId": "2e87b7b5-12ab-4ed4-dcca-50d8639c7b00"
      },
      "outputs": [],
      "source": [
        "\n",
        "try: \n",
        "  import mesa\n",
        "except: \n",
        "  !pip install mesa --quiet\n",
        "import mesa\n",
        "import numpy as np\n",
        "import math\n",
        "import matplotlib.pyplot as plt\n",
        "\n",
        "%matplotlib inline"
      ]
    },
    {
      "cell_type": "markdown",
      "metadata": {
        "id": "BkX5GqjSnAu0"
      },
      "source": [
        "# 资源类 "
      ]
    },
    {
      "cell_type": "code",
      "execution_count": 2,
      "metadata": {
        "id": "o1EOk5KMnC55"
      },
      "outputs": [],
      "source": [
        "class Sugar(mesa.Agent):\n",
        "    '''\n",
        "    Sugar:\n",
        "    - 包含一定数量的糖\n",
        "    - 每轮增长一单位数量的糖\n",
        "    '''\n",
        "\n",
        "    def __init__(self, unique_id, model, pos, max_sugar): \n",
        "        super().__init__(unique_id, model)\n",
        "        self.pos = pos\n",
        "        self.amount = max_sugar\n",
        "        self.max_sugar = max_sugar\n",
        "\n",
        "\n",
        "    def step(self):\n",
        "        '''\n",
        "        糖每轮增长一单位数量，直到最大值\n",
        "        '''\n",
        "        self.amount = min([self.max_sugar, self.amount+1])"
      ]
    },
    {
      "cell_type": "code",
      "execution_count": 3,
      "metadata": {
        "id": "-oJ35Mx7nXmK"
      },
      "outputs": [],
      "source": [
        "class Spice(mesa.Agent):\n",
        "  '''\n",
        "  spice:\n",
        "  - 包含一定数量的香料\n",
        "  - 每轮增长一单位数量的香料\n",
        "  '''\n",
        "\n",
        "  def __init__(self, unique_id, model, pos, max_spice):\n",
        "    super().__init__(unique_id, model)\n",
        "    self.pos = pos\n",
        "    self.amount = max_spice\n",
        "    self.max_spice = max_spice\n",
        "  \n",
        "  def step(self): \n",
        "    '''\n",
        "    香料每轮增长一单位数量，直到最大值\n",
        "    '''\n",
        "    self.amount = min([self.max_spice, self.amount+1])"
      ]
    },
    {
      "cell_type": "markdown",
      "metadata": {
        "id": "XYcwNrHqnrPt"
      },
      "source": [
        "# 交易主体类"
      ]
    },
    {
      "cell_type": "code",
      "execution_count": 4,
      "metadata": {
        "id": "t51BNfwUnt53"
      },
      "outputs": [],
      "source": [
        "class Trader(mesa.Agent): \n",
        "    '''\n",
        "    Trader:\n",
        "    - 能够代谢糖和香料\n",
        "    - 收集和交易糖和香料来生存与繁衍\n",
        "    '''\n",
        "\n",
        "\n",
        "    def __init__(self, unique_id, model, pos, moore=False, sugar=0, \n",
        "                spice=0, metabolism_sugar=0, metabolism_spice=0, \n",
        "                vision=0):\n",
        "        super().__init__(unique_id, model)\n",
        "        self.pos = pos\n",
        "        self.moore = moore\n",
        "        self.sugar = sugar\n",
        "        self.spice = spice\n",
        "        self.metabolism_sugar = metabolism_sugar\n",
        "        self.metabolism_spice = metabolism_spice\n",
        "        self.vision = vision\n",
        "    \n"
      ]
    },
    {
      "cell_type": "markdown",
      "metadata": {
        "id": "SRrU2ABBoF0i"
      },
      "source": [
        "# Model Class"
      ]
    },
    {
      "cell_type": "code",
      "execution_count": 5,
      "metadata": {
        "id": "7DTonjahn2BT"
      },
      "outputs": [],
      "source": [
        "class SugarscapeG1mt(mesa.Model):\n",
        "  '''\n",
        "  通过Traders (GImt)来运行Sugarscape的模型\n",
        "  来自 Axtell和Epstein《Growing Artifical Societies》\n",
        "  '''\n",
        "  \n",
        "  \n",
        "  def __init__(self, width=50,height=50, initial_population=200,\n",
        "               endowment_min=25, endowment_max=50, metabolism_min=1,\n",
        "               metabolism_max=5, vision_min=1, vision_max=5):\n",
        "    \n",
        "    # 初始化糖景的宽度和高度\n",
        "    self.width = width\n",
        "    self.height = height \n",
        "    # 初始化交易主体属性\n",
        "    self.initial_population = initial_population\n",
        "    self.endowment_min = endowment_min\n",
        "    self.endowment_max = endowment_max\n",
        "    self.metabolism_min = metabolism_min\n",
        "    self.metabolism_max = metabolism_max\n",
        "    self.vision_min = vision_min\n",
        "    self.vision_max = vision_max\n",
        "\n",
        "    # 初始化mesa的日程表\n",
        "    self.schedule = mesa.time.RandomActivationByType(self)    \n",
        "    # 初始化mesa的网格类\n",
        "    self.grid = mesa.space.MultiGrid(self.width, self.height, torus=False)\n",
        "\n",
        "    # 从辅助资料中读取糖和香料的分布\n",
        "    sugar_distribution =np.genfromtxt(\"sugar-map.txt\")\n",
        "    spice_distribution = np.flip(sugar_distribution, 1)\n",
        "    \n",
        "    agent_id = 0\n",
        "    for _,x,y in self.grid.coord_iter():\n",
        "      max_sugar = sugar_distribution[x,y]\n",
        "      if max_sugar > 0: \n",
        "        sugar = Sugar(agent_id, self, (x,y), max_sugar)\n",
        "        self.schedule.add(sugar)\n",
        "        self.grid.place_agent(sugar, (x,y))\n",
        "        agent_id += 1\n",
        "    \n",
        "      max_spice = spice_distribution[x,y]\n",
        "      if max_spice > 0: \n",
        "        spice = Spice(agent_id, self, (x,y), max_spice)\n",
        "        self.schedule.add(spice)\n",
        "        self.grid.place_agent(spice, (x,y))\n",
        "        agent_id += 1    \n",
        "\n",
        "    for i in range(self.initial_population):\n",
        "      # 得到随机的坐标\n",
        "      x = self.random.randrange(self.width)\n",
        "      y = self.random.randrange(self.height)\n",
        "      # see Growing Artificial Societies p. 108 for initialization\n",
        "      # 给予主体初始的禀赋\n",
        "      sugar = int(self.random.uniform(self.endowment_min, self.endowment_max+1))\n",
        "      spice = int(self.random.uniform(self.endowment_min, self.endowment_max+1))\n",
        "      # 给予主体初始代谢\n",
        "      metabolism_sugar = int(self.random.uniform(self.metabolism_min, self.metabolism_max+1))\n",
        "      metabolism_spice = int(self.random.uniform(self.metabolism_min, self.metabolism_max+1))\n",
        "      # 给予主体视野\n",
        "      vision = int(self.random.uniform(self.vision_min, self.vision_max+1))\n",
        "      # 实例化交易主体\n",
        "      trader = Trader(agent_id, \n",
        "                      self,\n",
        "                      (x,y),\n",
        "                      moore = False, \n",
        "                      sugar = sugar, \n",
        "                      spice = spice, \n",
        "                      metabolism_sugar = metabolism_sugar, \n",
        "                      metabolism_spice = metabolism_spice, \n",
        "                      vision = vision)\n",
        "      # 放置主体到网格中\n",
        "      self.grid.place_agent(trader, (x,y))\n",
        "      self.schedule.add(trader)\n",
        "      agent_id += 1\n",
        "\n",
        "  def step(self):\n",
        "    '''\n",
        "    独特的step函数，可分阶段激活糖和香料 然后随机激活交易主体\n",
        "    '''    \n",
        "\n",
        "    # step Sugar agents\n",
        "    for sugar in self.schedule.agents_by_type[Sugar].values(): \n",
        "      sugar.step()\n",
        "    \n",
        "    # step Spice agents\n",
        "    for spice in self.schedule.agents_by_type[Spice].values(): \n",
        "      spice.step()\n",
        "\n",
        "    self.schedule.steps += 1 # 对于数据收集器(data collector)跟踪步数很重要\n",
        "\n",
        "  def run_model(self, step_count=1000):\n",
        "\n",
        "    for i in range(step_count):\n",
        "      print(i)\n",
        "      self.step()"
      ]
    },
    {
      "cell_type": "markdown",
      "metadata": {
        "id": "_KHKfeD9oiYo"
      },
      "source": [
        "# Run Sugarscape"
      ]
    },
    {
      "cell_type": "code",
      "execution_count": 6,
      "metadata": {
        "colab": {
          "base_uri": "https://localhost:8080/"
        },
        "id": "at455urSol7b",
        "outputId": "8290bfc6-8705-410b-ce56-877773fa63d1"
      },
      "outputs": [
        {
          "name": "stdout",
          "output_type": "stream",
          "text": [
            "0\n",
            "1\n",
            "2\n",
            "3\n",
            "4\n"
          ]
        }
      ],
      "source": [
        "model = SugarscapeG1mt()\n",
        "model.run_model(step_count=5)\n"
      ]
    }
  ],
  "metadata": {
    "colab": {
      "collapsed_sections": [
        "XAnII-29m3r2",
        "wp0VWkylOKr9"
      ],
      "include_colab_link": true,
      "provenance": []
    },
    "kernelspec": {
      "display_name": "Python 3",
      "language": "python",
      "name": "python3"
    },
    "language_info": {
      "codemirror_mode": {
        "name": "ipython",
        "version": 3
      },
      "file_extension": ".py",
      "mimetype": "text/x-python",
      "name": "python",
      "nbconvert_exporter": "python",
      "pygments_lexer": "ipython3",
      "version": "3.10.12"
    }
  },
  "nbformat": 4,
  "nbformat_minor": 0
}
